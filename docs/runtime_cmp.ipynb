{
 "cells": [
  {
   "cell_type": "markdown",
   "metadata": {},
   "source": [
    "# Runtime Comparison"
   ]
  },
  {
   "cell_type": "markdown",
   "metadata": {},
   "source": [
    "This script compares the running time of two versions of Variational autoencoders (in an epoch):\n",
    "- Normal Tensorflow\n",
    "- Parallelized Tensorflow"
   ]
  },
  {
   "cell_type": "code",
   "execution_count": 1,
   "metadata": {
    "collapsed": true
   },
   "outputs": [],
   "source": [
    "from __future__ import absolute_import\n",
    "from __future__ import division\n",
    "from __future__ import print_function\n",
    "import numpy as np\n",
    "import tensorflow as tf\n",
    "import time\n",
    "from tensorflow.python.client import timeline\n",
    "import matplotlib.pyplot as plt\n",
    "%matplotlib inline"
   ]
  },
  {
   "cell_type": "code",
   "execution_count": 2,
   "metadata": {
    "collapsed": true
   },
   "outputs": [],
   "source": [
    "import sys\n",
    "sys.path.append('../vae')"
   ]
  },
  {
   "cell_type": "markdown",
   "metadata": {},
   "source": [
    "### Prepare Dataset"
   ]
  },
  {
   "cell_type": "code",
   "execution_count": 3,
   "metadata": {
    "collapsed": false
   },
   "outputs": [
    {
     "name": "stdout",
     "output_type": "stream",
     "text": [
      "Extracting MNIST_data/train-images-idx3-ubyte.gz\n",
      "Extracting MNIST_data/train-labels-idx1-ubyte.gz\n",
      "Extracting MNIST_data/t10k-images-idx3-ubyte.gz\n",
      "Extracting MNIST_data/t10k-labels-idx1-ubyte.gz\n"
     ]
    }
   ],
   "source": [
    "from misc_sta663 import *\n",
    "(mnist, n_samples) = mnist_loader()"
   ]
  },
  {
   "cell_type": "markdown",
   "metadata": {},
   "source": [
    "### Normal Tensorflow"
   ]
  },
  {
   "cell_type": "code",
   "execution_count": 4,
   "metadata": {
    "collapsed": true
   },
   "outputs": [],
   "source": [
    "from vae_sta663 import *\n",
    "import tensorflow as tf\n",
    "import numpy as np\n",
    "\n",
    "config_normal = {}\n",
    "config_normal['x_in'] = 784\n",
    "config_normal['encoder_1'] = 500\n",
    "config_normal['encoder_2'] = 500\n",
    "config_normal['decoder_1'] = 500\n",
    "config_normal['decoder_2'] = 500\n",
    "config_normal['z'] = 20"
   ]
  },
  {
   "cell_type": "markdown",
   "metadata": {},
   "source": [
    "### Parallelized Tensorflow"
   ]
  },
  {
   "cell_type": "code",
   "execution_count": 5,
   "metadata": {
    "collapsed": false
   },
   "outputs": [],
   "source": [
    "from vae_parallel_sta663 import *"
   ]
  },
  {
   "cell_type": "code",
   "execution_count": 6,
   "metadata": {
    "collapsed": true
   },
   "outputs": [],
   "source": [
    "import tensorflow as tf\n",
    "import numpy as np\n",
    "\n",
    "config_parallel = {}\n",
    "config_parallel['x_in'] = 784\n",
    "config_parallel['encoder_1'] = 500\n",
    "config_parallel['encoder_2'] = 500\n",
    "config_parallel['decoder_1'] = 500\n",
    "config_parallel['decoder_2'] = 500\n",
    "config_parallel['z'] = 20"
   ]
  },
  {
   "cell_type": "markdown",
   "metadata": {},
   "source": [
    "### Across Batch Sizes"
   ]
  },
  {
   "cell_type": "code",
   "execution_count": 7,
   "metadata": {
    "collapsed": false
   },
   "outputs": [],
   "source": [
    "batch_size = np.arange(100, 1100, 100)\n",
    "run_time_normal = []"
   ]
  },
  {
   "cell_type": "code",
   "execution_count": 8,
   "metadata": {
    "collapsed": true
   },
   "outputs": [],
   "source": [
    "def vae_train(sess, optimizer, cost, x, n_samples, batch_size=100, learn_rate=0.001, train_epoch=10, verb=1, verb_step=5):\n",
    "    \n",
    "    for epoch in range(train_epoch):\n",
    "        avg_cost = 0\n",
    "        total_batch = int(n_samples / batch_size)\n",
    "        for i in range(total_batch):\n",
    "            batch_x, _ = mnist.train.next_batch(batch_size)\n",
    "            \n",
    "            _, c = sess.run((optimizer, cost), feed_dict={x: batch_x})\n",
    "            avg_cost += c / n_samples * batch_size\n",
    "        \n",
    "        if verb:\n",
    "            if epoch % verb_step == 0:\n",
    "                print('Epoch:%04d' % (epoch+1), 'cost=', '{:.9f}'.format(avg_cost))"
   ]
  },
  {
   "cell_type": "code",
   "execution_count": 9,
   "metadata": {
    "collapsed": false
   },
   "outputs": [
    {
     "name": "stdout",
     "output_type": "stream",
     "text": [
      "Evaluating at: 100\n",
      "1 loop, best of 5: 30.1 s per loop\n",
      "Evaluating at: 200\n",
      "1 loop, best of 5: 27.4 s per loop\n",
      "Evaluating at: 300\n",
      "1 loop, best of 5: 26.2 s per loop\n",
      "Evaluating at: 400\n",
      "1 loop, best of 5: 26.3 s per loop\n",
      "Evaluating at: 500\n",
      "1 loop, best of 5: 25.2 s per loop\n",
      "Evaluating at: 600\n",
      "1 loop, best of 5: 25.5 s per loop\n",
      "Evaluating at: 700\n",
      "1 loop, best of 5: 24.8 s per loop\n",
      "Evaluating at: 800\n",
      "1 loop, best of 5: 24.5 s per loop\n",
      "Evaluating at: 900\n",
      "1 loop, best of 5: 25.2 s per loop\n",
      "Evaluating at: 1000\n",
      "1 loop, best of 5: 24.5 s per loop\n"
     ]
    }
   ],
   "source": [
    "for s in batch_size:\n",
    "    print('Evaluating at: %d' % s)\n",
    "    \n",
    "    (sess_1, optimizer_1, cost_1, x_1, x_prime_1) = vae_init(batch_size=s, config=config_normal)\n",
    "    result_1 = %timeit -o -n1 -r5 vae_train(sess_1, optimizer_1, cost_1, x_1, n_samples, batch_size=s, train_epoch=1, verb=0)\n",
    "    sess_1.close()\n",
    "    run_time_normal.append(result_1.all_runs)"
   ]
  },
  {
   "cell_type": "code",
   "execution_count": 11,
   "metadata": {
    "collapsed": false
   },
   "outputs": [],
   "source": [
    "import pickle\n",
    "\n",
    "with open('../]data/runtime_normal.pickle', 'wb') as f:\n",
    "    pickle.dump(run_time_normal, f)"
   ]
  },
  {
   "cell_type": "code",
   "execution_count": null,
   "metadata": {
    "collapsed": true
   },
   "outputs": [],
   "source": []
  }
 ],
 "metadata": {
  "kernelspec": {
   "display_name": "Python 3",
   "language": "python",
   "name": "python3"
  },
  "language_info": {
   "codemirror_mode": {
    "name": "ipython",
    "version": 3
   },
   "file_extension": ".py",
   "mimetype": "text/x-python",
   "name": "python",
   "nbconvert_exporter": "python",
   "pygments_lexer": "ipython3",
   "version": "3.5.2"
  }
 },
 "nbformat": 4,
 "nbformat_minor": 2
}
