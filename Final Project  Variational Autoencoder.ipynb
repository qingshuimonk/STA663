{
 "cells": [
  {
   "cell_type": "markdown",
   "metadata": {},
   "source": [
    "{\n",
    "\"name\": \"\",\n",
    "\"celltoolbar\": \"Slideshow\",\n",
    "\"signature\": \"sha256:b01826fe48973cffb8307654e0cb5e48b963c0e44cb0013e9d5c5a5ebc13c321\",\n",
    "\n",
    "\"document\": {\n",
    "    \"title\": \"Title of document/presentation\",\n",
    "    \"subtitle\": \"Subtitle of document/presentation\",\n",
    "    \"authors\": {\n",
    "        \"author1\": {\n",
    "            \"name\": \"LastName, FirstName\",\n",
    "            \"affiliation\": \"org1\",\n",
    "            \"email\" : \"author1@domain.org\",\n",
    "            },\n",
    "        \"author2\": {\n",
    "            \"name\": \"LastName, FirstName\",\n",
    "            \"affiliation\": \"org2\",\n",
    "            \"email\" : \"author2@domain.de\",\n",
    "            },\n",
    "        },\n",
    "    \"affiliations\": {\n",
    "        \"org1\" : {\n",
    "            \"institute\" : \"University of...\",\n",
    "            \"department\": \"Department of...\",\n",
    "            \"section\"   : \"Laboratory of...\",\n",
    "            \"street\"    : \"Street A\",\n",
    "            \"city\"      : \"City A\",\n",
    "            \"country\"   : \"Country A\",\n",
    "            \"postcode\"  : \"Postcode A\",\n",
    "            },\n",
    "        \"org2\" : {\n",
    "            \"institute\" : \"... GmbH\",\n",
    "            \"department\": \"Department of...\",\n",
    "            \"section\"   : \"Section...\",\n",
    "            \"street\"    : \"Street A\",\n",
    "            \"city\"      : \"City A\",\n",
    "            \"country\"   : \"Country A\",\n",
    "            \"postcode\"  : \"Postcode A\",\n",
    "            },\n",
    "        },\n",
    "    },\n",
    "}"
   ]
  },
  {
   "cell_type": "markdown",
   "metadata": {},
   "source": [
    "# Abstract"
   ]
  },
  {
   "cell_type": "markdown",
   "metadata": {},
   "source": [
    "  Generative models have been a popular topic in unsupervised learning. "
   ]
  },
  {
   "cell_type": "markdown",
   "metadata": {},
   "source": [
    "# Background"
   ]
  },
  {
   "cell_type": "markdown",
   "metadata": {},
   "source": [
    "# Algorithm"
   ]
  },
  {
   "cell_type": "markdown",
   "metadata": {},
   "source": [
    "# Optimization"
   ]
  },
  {
   "cell_type": "markdown",
   "metadata": {},
   "source": [
    "# Applications to data"
   ]
  },
  {
   "cell_type": "markdown",
   "metadata": {},
   "source": [
    "# Comparative analysis"
   ]
  },
  {
   "cell_type": "markdown",
   "metadata": {},
   "source": [
    "# Discussion"
   ]
  },
  {
   "cell_type": "markdown",
   "metadata": {},
   "source": [
    "# Reference"
   ]
  },
  {
   "cell_type": "code",
   "execution_count": null,
   "metadata": {
    "collapsed": true
   },
   "outputs": [],
   "source": []
  }
 ],
 "metadata": {
  "kernelspec": {
   "display_name": "Python 3",
   "language": "python",
   "name": "python3"
  },
  "language_info": {
   "codemirror_mode": {
    "name": "ipython",
    "version": 3
   },
   "file_extension": ".py",
   "mimetype": "text/x-python",
   "name": "python",
   "nbconvert_exporter": "python",
   "pygments_lexer": "ipython3",
   "version": "3.5.2"
  }
 },
 "nbformat": 4,
 "nbformat_minor": 2
}
